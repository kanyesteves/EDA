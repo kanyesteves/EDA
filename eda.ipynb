{
 "cells": [
  {
   "cell_type": "code",
   "execution_count": 2,
   "id": "fe6d096b-af02-4d74-a430-3dabe3a999b7",
   "metadata": {},
   "outputs": [],
   "source": [
    "import pandas as pd\n",
    "import re"
   ]
  },
  {
   "cell_type": "code",
   "execution_count": 3,
   "id": "25d3c541-c78a-4b1b-a9bb-e6ecab6e94e8",
   "metadata": {},
   "outputs": [],
   "source": [
    "df_base_public = pd.read_csv('materiais de aula/survey_results_public.csv', index_col='ResponseId')\n",
    "df_base_schema = pd.read_csv('materiais de aula/survey_results_schema.csv', index_col='qid')"
   ]
  },
  {
   "cell_type": "code",
   "execution_count": 4,
   "id": "c0d9916b-e36b-4496-92e3-7694e398502c",
   "metadata": {
    "collapsed": true,
    "jupyter": {
     "outputs_hidden": true
    }
   },
   "outputs": [
    {
     "data": {
      "text/plain": [
       "Index(['MainBranch', 'Employment', 'RemoteWork', 'CodingActivities', 'EdLevel',\n",
       "       'LearnCode', 'LearnCodeOnline', 'LearnCodeCoursesCert', 'YearsCode',\n",
       "       'YearsCodePro', 'DevType', 'OrgSize', 'PurchaseInfluence', 'BuyNewTool',\n",
       "       'Country', 'Currency', 'CompTotal', 'CompFreq',\n",
       "       'LanguageHaveWorkedWith', 'LanguageWantToWorkWith',\n",
       "       'DatabaseHaveWorkedWith', 'DatabaseWantToWorkWith',\n",
       "       'PlatformHaveWorkedWith', 'PlatformWantToWorkWith',\n",
       "       'WebframeHaveWorkedWith', 'WebframeWantToWorkWith',\n",
       "       'MiscTechHaveWorkedWith', 'MiscTechWantToWorkWith',\n",
       "       'ToolsTechHaveWorkedWith', 'ToolsTechWantToWorkWith',\n",
       "       'NEWCollabToolsHaveWorkedWith', 'NEWCollabToolsWantToWorkWith',\n",
       "       'OpSysProfessional use', 'OpSysPersonal use', 'VersionControlSystem',\n",
       "       'VCInteraction', 'VCHostingPersonal use', 'VCHostingProfessional use',\n",
       "       'OfficeStackAsyncHaveWorkedWith', 'OfficeStackAsyncWantToWorkWith',\n",
       "       'OfficeStackSyncHaveWorkedWith', 'OfficeStackSyncWantToWorkWith',\n",
       "       'Blockchain', 'NEWSOSites', 'SOVisitFreq', 'SOAccount', 'SOPartFreq',\n",
       "       'SOComm', 'Age', 'Gender', 'Trans', 'Sexuality', 'Ethnicity',\n",
       "       'Accessibility', 'MentalHealth', 'TBranch', 'ICorPM', 'WorkExp',\n",
       "       'Knowledge_1', 'Knowledge_2', 'Knowledge_3', 'Knowledge_4',\n",
       "       'Knowledge_5', 'Knowledge_6', 'Knowledge_7', 'Frequency_1',\n",
       "       'Frequency_2', 'Frequency_3', 'TimeSearching', 'TimeAnswering',\n",
       "       'Onboarding', 'ProfessionalTech', 'TrueFalse_1', 'TrueFalse_2',\n",
       "       'TrueFalse_3', 'SurveyLength', 'SurveyEase', 'ConvertedCompYearly'],\n",
       "      dtype='object')"
      ]
     },
     "execution_count": 4,
     "metadata": {},
     "output_type": "execute_result"
    }
   ],
   "source": [
    "df_base_public.columns"
   ]
  },
  {
   "cell_type": "code",
   "execution_count": 5,
   "id": "a7b099dc-1598-4e3c-8ad7-5c9e7227ed83",
   "metadata": {},
   "outputs": [
    {
     "data": {
      "text/plain": [
       "Index(['qname', 'question', 'force_resp', 'type', 'selector'], dtype='object')"
      ]
     },
     "execution_count": 5,
     "metadata": {},
     "output_type": "execute_result"
    }
   ],
   "source": [
    "df_base_schema.columns"
   ]
  },
  {
   "cell_type": "code",
   "execution_count": 6,
   "id": "ae4d9355-c061-426c-a385-e928fa0e5ee9",
   "metadata": {},
   "outputs": [],
   "source": [
    "def remove_html(html):\n",
    "    pattern = re.compile('<.*?>')\n",
    "    cleantext = re.sub(pattern, '', html)\n",
    "    return cleantext.replace('*', '').strip()"
   ]
  },
  {
   "cell_type": "code",
   "execution_count": 14,
   "id": "afd94e99-65d5-4a2b-a06c-48e3a2d7cbe4",
   "metadata": {},
   "outputs": [],
   "source": [
    "def format_percent(value):\n",
    "    return f'{100 * value:.2f}%'"
   ]
  },
  {
   "cell_type": "code",
   "execution_count": 7,
   "id": "c6d048f1-b375-49e1-98fe-4abcbf430b46",
   "metadata": {
    "collapsed": true,
    "jupyter": {
     "outputs_hidden": true
    },
    "scrolled": true
   },
   "outputs": [
    {
     "name": "stdout",
     "output_type": "stream",
     "text": [
      "S0 -> Hello world! \n",
      "\n",
      " \n",
      "\n",
      "Thank you for taking the 2022 Stack Overflow Developer Survey, the longest running survey of software developers (and anyone else who codes!) on Earth. \n",
      "\n",
      " \n",
      "\n",
      "As in previous years, anonymized results of the survey will be made publicly available under the Open Database License, where anyone can download and analyze the data. On that note, throughout the survey, certain answers you and your peers give will be treated as personally identifiable information, and therefore kept out of the anonymized results file. We'll call out each of those in the survey with a note saying \"This information will be kept private.\" \n",
      "\n",
      " \n",
      "\n",
      "There are seven sections in this survey. The 2nd, 3rd, and 4th sections will appear in a random order.\n",
      "\n",
      "   1. Basic Information\n",
      "\n",
      "   2. Education, Work, and Career\n",
      "\n",
      "   3. Technology and Tech Culture\n",
      "\n",
      "   4. Stack Overflow Usage + Community\n",
      "\n",
      "   5. Demographic Information \n",
      "\n",
      "   6. Professional Developer Series (Optional)   7. Final Questions\n",
      "\n",
      " \n",
      "Most questions in this survey are optional. Required questions are marked with . This anonymous survey will take about 10 minutes to complete. We encourage you to complete it in one sitting.\n",
      "\n",
      "\n",
      "If you use security or ad-blocking plugins, you may see error messages\n",
      "\n",
      "Our third-party software provider, Qualtrics, does not work well with certain ad blockers and security software. To avoid error messages that prevent you from taking the survey, please try specifically unblocking Qualtrics in your plugin or pausing the plugin while you take the survey. \n",
      "\n",
      " \n",
      "\n",
      "To begin, click Next.\n",
      "MetaInfo -> Browser Meta Info\n",
      "S1 -> Basic Information\n",
      "\n",
      "The first section will focus on some basic information about who you are.\n",
      "\n",
      "Most questions in this section are required. Required questions are noted with .\n",
      "MainBranch -> Which of the following options best describes you today? Here, by \"developer\" we mean \"someone who writes code.\"\n",
      "Employment -> Which of the following best describes your current employment status?\n",
      "RemoteWork -> Which best describes your current work situation?\n",
      "CodingActivities -> Which of the following best describes the code you write outside of work? Select all that apply.\n",
      "S2 -> Education, work, and career\n",
      " \n",
      "This section will focus on your education, work, and career.\n",
      "\n",
      "Most questions in this section are optional. Required questions are noted with .\n",
      "EdLevel -> Which of the following best describes the highest level of formal education that you’ve completed?\n",
      "LearnCode -> How did you learn to code? Select all that apply.\n",
      "LearnCodeOnline -> What online resources do you use to learn to code? Select all that apply.\n",
      "LearnCodeCoursesCert -> What online courses or certifications do you use to learn to code? Select all that apply.\n",
      "YearsCode -> Including any education, how many years have you been coding in total?\n",
      "YearsCodePro -> NOT including education, how many years have you coded professionally (as a part of your work)?\n",
      "DevType -> Which of the following describes your current job? Please select all that apply.\n",
      "OrgSize -> Approximately how many people are employed by the company or organization you currently work for?\n",
      "PurchaseInfluence -> What level of influence do you, personally, have over new technology purchases at your organization?\n",
      "BuyNewTool -> When buying a new tool or software, how do you discover and research available solutions? Select all that apply.\n",
      "Country -> Where do you live?\n",
      "Currency -> Which currency do you use day-to-day? If your answer is complicated, please pick the one you're most comfortable estimating in.\n",
      "CompTotal -> What is your current total compensation (salary, bonuses, and perks, before taxes and deductions)? Please enter a whole number in the box below, without any punctuation.  If you are paid hourly, please estimate an equivalent weekly, monthly, or yearly salary. If you prefer not to answer, please leave the box empty.\n",
      "CompFreq -> Is that compensation weekly, monthly, or yearly?\n",
      "S3 -> Tech and tech culture\n",
      "\n",
      "\n",
      "The next set of questions will focus on technology and tech culture.\n",
      "\n",
      "Most questions in this section are optional. Required questions are noted with .\n",
      "Language -> Which programming, scripting, and markup languages have you done extensive development work in over the past year, and which do you want to work in over the next year? (If you both worked with the language and want to continue to do so, please check both boxes in that row.)\n",
      "Database -> Which database environments have you done extensive development work in over the past year, and which do you want to work in over the next year? (If you both worked with the database and want to continue to do so, please check both boxes in that row.)\n",
      "Platform -> Which cloud platforms have you done extensive development work in over the past year, and which do you want to work in over the next year? (If you both worked with the platform and want to continue to do so, please check both boxes in that row.)\n",
      "Webframe -> Which web frameworks and web technologies have you done extensive development work in over the past year, and which do you want to work in over the next year? (If you both worked with the framework and want to continue to do so, please check both boxes in that row.)\n",
      "MiscTech -> Which other frameworks and libraries have you done extensive development work in over the past year, and which do you want to work in over the next year? (If you both worked with the framework and want to continue to do so, please check both boxes in that row.)\n",
      "ToolsTech -> Which developer tools have you done extensive development work in over the past year, and which do you want to work in over the next year? (If you both worked with the technology and want to continue to do so, please check both boxes in that row.)\n",
      "NEWCollabTools -> Which development environments did you use regularly over the past year, and which do you want to work with over the next year? Please check all that apply.\n",
      "OpSys -> What is the primary operating system in which you work?\n",
      "VersionControlSystem -> What are the primary version control systems you use? Select all that apply.\n",
      "VCInteraction -> How do you interact with your version control system? Select all that apply.\n",
      "VCHosting -> What version control hosting service are you using?\n",
      "OfficeStackAsync -> Which collaborative work management tools did you use regularly over the past year, and which do you want to work with over the next year? Select all that apply\n",
      "OfficeStackSync -> Which communication tools did you use regularly over the past year, and which do you want to work with over the next year? Select all that apply\n",
      "Blockchain -> How favorable are you about blockchain, crypto, and decentralization?\n",
      "S4 -> Stack Overflow - usage and community\n",
      "\n",
      "\n",
      "This section will focus on Stack Overflow usage and community questions.\n",
      "\n",
      "Most questions in this section are optional. Required questions are noted with .\n",
      "NEWSOSites -> Which of the following Stack Overflow sites have you visited? Select all that apply.\n",
      "SOVisitFreq -> How frequently would you say you visit Stack Overflow?\n",
      "SOAccount -> Do you have a Stack Overflow account?\n",
      "SOPartFreq -> How frequently would you say you participate in Q&amp;A on Stack Overflow? By participate we mean ask, answer, vote for, or comment on questions.\n",
      "SOComm -> Do you consider yourself a member of the Stack Overflow community?\n",
      "S5 -> Demographics\n",
      "\n",
      "\n",
      "All questions in this section are optional, you may leave questions blank if you prefer not to answer. As a reminder, all reporting of the survey responses will be anonymized.\n",
      "Age -> What is your age?\n",
      "Gender -> Which of the following describe you, if any? Please check all that apply.\n",
      "Trans -> Do you identify as transgender?\n",
      "Sexuality -> Which of the following describe you, if any? Please check all that apply.\n",
      "Ethnicity -> Which of the following describe you, if any? Please check all that apply.\n",
      "Accessibility -> Which of the following describe you, if any? Please check all that apply.\n",
      "MentalHealth -> Which of the following describe you, if any? Please check all that apply.\n",
      "S6 -> Professional Developer Series\n",
      " \n",
      "In one of our previous pulse surveys, we saw that people valued being productive and having growth opportunities at work. By adding a Professional Developer Series to this year's survey we want to better understand the things that may impact your productivity and opportunities to learn. Like the rest of the survey, your responses are completely anonymous.\n",
      "\n",
      " \n",
      "\n",
      "Blog post - New data: What developers look for in future job opportunities - December 7, 2021\n",
      "TBranch -> Would you like to participate in the Professional Developer Series?\n",
      "ICorPM -> Are you an independent contributor or people manager?\n",
      "WorkExp -> How many years of working experience do you have?\n",
      "Knowledge -> Please rate your level of agreement with the following statement:\n",
      "Frequency -> How frequently do you experience each of the following?\n",
      "TimeSearching -> On an average day, how much time do you typically spend searching for answers or solutions to problems you encounter at work? (This includes time spent searching on your own, asking a colleague, and waiting for a response).\n",
      "TimeAnswering -> On an average day, how much time do you typically spend answering questions you get asked at work?\n",
      "Onboarding -> The time it takes to onboard new hires at my company is:\n",
      "ProfessionalTech -> My company has:\n",
      "SOTeamsUsage -> Does your team use Stack Overflow for Teams?\n",
      "TrueFalse -> Last few questions...\n",
      "S7 -> Final Questions\n",
      "SurveyLength -> How do you feel about the length of the survey this year?\n",
      "SurveyEase -> How easy or difficult was this survey to complete?\n",
      "Knowledge_1 -> I have interactions with people outside of my immediate team.\n",
      "Knowledge_2 -> Knowledge silos prevent me from getting ideas across the organization (i.e., one individual or team has information that isn't shared with others)\n",
      "Knowledge_3 -> I can find up-to-date information within my organization to help me do my job.\n",
      "Knowledge_4 -> I am able to quickly find answers to my questions with existing tools and resources.\n",
      "Knowledge_5 -> I know which system or resource to use to find information and answers to questions I have.\n",
      "Knowledge_6 -> I often find myself answering questions that I’ve already answered before.\n",
      "Knowledge_7 -> Waiting on answers to questions often causes interruptions and disrupts my workflow.\n",
      "Frequency_1 -> Needing help from people outside of your immediate team?\n",
      "Frequency_2 -> Interacting with people outside of your immediate team?\n",
      "Frequency_3 -> Encountering knowledge silos (where one individual or team has information that's not shared or distributed with other individuals or teams) at work?\n",
      "TrueFalse_1 -> Are you involved in supporting new hires during their onboarding?\n",
      "TrueFalse_2 -> Do you use learning resources provided by your employer?\n",
      "TrueFalse_3 -> Does your employer give you time to learn new skills?\n"
     ]
    }
   ],
   "source": [
    "for nome, desc in zip(df_base_schema['qname'], df_base_schema['question']):\n",
    "    print(f'{nome} -> {remove_html(desc)}')"
   ]
  },
  {
   "cell_type": "code",
   "execution_count": 8,
   "id": "913d8972-4215-4c95-849c-7ce8526ab610",
   "metadata": {
    "collapsed": true,
    "jupyter": {
     "outputs_hidden": true
    }
   },
   "outputs": [
    {
     "name": "stdout",
     "output_type": "stream",
     "text": [
      "<class 'pandas.core.frame.DataFrame'>\n",
      "Index: 73268 entries, 1 to 73268\n",
      "Data columns (total 78 columns):\n",
      " #   Column                          Non-Null Count  Dtype  \n",
      "---  ------                          --------------  -----  \n",
      " 0   MainBranch                      73268 non-null  object \n",
      " 1   Employment                      71709 non-null  object \n",
      " 2   RemoteWork                      58958 non-null  object \n",
      " 3   CodingActivities                58899 non-null  object \n",
      " 4   EdLevel                         71571 non-null  object \n",
      " 5   LearnCode                       71580 non-null  object \n",
      " 6   LearnCodeOnline                 50685 non-null  object \n",
      " 7   LearnCodeCoursesCert            29389 non-null  object \n",
      " 8   YearsCode                       71331 non-null  object \n",
      " 9   YearsCodePro                    51833 non-null  object \n",
      " 10  DevType                         61302 non-null  object \n",
      " 11  OrgSize                         51039 non-null  object \n",
      " 12  PurchaseInfluence               50969 non-null  object \n",
      " 13  BuyNewTool                      67963 non-null  object \n",
      " 14  Country                         71771 non-null  object \n",
      " 15  Currency                        51264 non-null  object \n",
      " 16  CompTotal                       38422 non-null  float64\n",
      " 17  CompFreq                        44425 non-null  object \n",
      " 18  LanguageHaveWorkedWith          70975 non-null  object \n",
      " 19  LanguageWantToWorkWith          67027 non-null  object \n",
      " 20  DatabaseHaveWorkedWith          60121 non-null  object \n",
      " 21  DatabaseWantToWorkWith          51014 non-null  object \n",
      " 22  PlatformHaveWorkedWith          49924 non-null  object \n",
      " 23  PlatformWantToWorkWith          40415 non-null  object \n",
      " 24  WebframeHaveWorkedWith          53544 non-null  object \n",
      " 25  WebframeWantToWorkWith          46122 non-null  object \n",
      " 26  MiscTechHaveWorkedWith          44992 non-null  object \n",
      " 27  MiscTechWantToWorkWith          36810 non-null  object \n",
      " 28  ToolsTechHaveWorkedWith         54171 non-null  object \n",
      " 29  ToolsTechWantToWorkWith         46566 non-null  object \n",
      " 30  NEWCollabToolsHaveWorkedWith    70347 non-null  object \n",
      " 31  NEWCollabToolsWantToWorkWith    64108 non-null  object \n",
      " 32  OpSysProfessional use           65503 non-null  object \n",
      " 33  OpSysPersonal use               70963 non-null  object \n",
      " 34  VersionControlSystem            71379 non-null  object \n",
      " 35  VCInteraction                   68156 non-null  object \n",
      " 36  VCHostingPersonal use           0 non-null      float64\n",
      " 37  VCHostingProfessional use       0 non-null      float64\n",
      " 38  OfficeStackAsyncHaveWorkedWith  46223 non-null  object \n",
      " 39  OfficeStackAsyncWantToWorkWith  32072 non-null  object \n",
      " 40  OfficeStackSyncHaveWorkedWith   62128 non-null  object \n",
      " 41  OfficeStackSyncWantToWorkWith   47688 non-null  object \n",
      " 42  Blockchain                      71071 non-null  object \n",
      " 43  NEWSOSites                      71365 non-null  object \n",
      " 44  SOVisitFreq                     70961 non-null  object \n",
      " 45  SOAccount                       71572 non-null  object \n",
      " 46  SOPartFreq                      58229 non-null  object \n",
      " 47  SOComm                          71408 non-null  object \n",
      " 48  Age                             70946 non-null  object \n",
      " 49  Gender                          70853 non-null  object \n",
      " 50  Trans                           70315 non-null  object \n",
      " 51  Sexuality                       66565 non-null  object \n",
      " 52  Ethnicity                       69474 non-null  object \n",
      " 53  Accessibility                   67244 non-null  object \n",
      " 54  MentalHealth                    66447 non-null  object \n",
      " 55  TBranch                         52670 non-null  object \n",
      " 56  ICorPM                          36283 non-null  object \n",
      " 57  WorkExp                         36769 non-null  float64\n",
      " 58  Knowledge_1                     35804 non-null  object \n",
      " 59  Knowledge_2                     34973 non-null  object \n",
      " 60  Knowledge_3                     35133 non-null  object \n",
      " 61  Knowledge_4                     35097 non-null  object \n",
      " 62  Knowledge_5                     35014 non-null  object \n",
      " 63  Knowledge_6                     34991 non-null  object \n",
      " 64  Knowledge_7                     34977 non-null  object \n",
      " 65  Frequency_1                     35371 non-null  object \n",
      " 66  Frequency_2                     35344 non-null  object \n",
      " 67  Frequency_3                     34515 non-null  object \n",
      " 68  TimeSearching                   36198 non-null  object \n",
      " 69  TimeAnswering                   36022 non-null  object \n",
      " 70  Onboarding                      35679 non-null  object \n",
      " 71  ProfessionalTech                34906 non-null  object \n",
      " 72  TrueFalse_1                     35819 non-null  object \n",
      " 73  TrueFalse_2                     35715 non-null  object \n",
      " 74  TrueFalse_3                     35749 non-null  object \n",
      " 75  SurveyLength                    70444 non-null  object \n",
      " 76  SurveyEase                      70508 non-null  object \n",
      " 77  ConvertedCompYearly             38071 non-null  float64\n",
      "dtypes: float64(5), object(73)\n",
      "memory usage: 44.2+ MB\n"
     ]
    }
   ],
   "source": [
    "df_base_public.info()"
   ]
  },
  {
   "cell_type": "code",
   "execution_count": 17,
   "id": "9cd92114-e83a-4dce-a1a5-c8ef48ad6188",
   "metadata": {},
   "outputs": [
    {
     "data": {
      "text/plain": [
       "VCHostingPersonal use             100.00%\n",
       "VCHostingProfessional use         100.00%\n",
       "LearnCodeCoursesCert               59.89%\n",
       "OfficeStackAsyncWantToWorkWith     56.23%\n",
       "Frequency_3                        52.89%\n",
       "                                   ...   \n",
       "SOAccount                           2.31%\n",
       "LearnCode                           2.30%\n",
       "Employment                          2.13%\n",
       "Country                             2.04%\n",
       "MainBranch                          0.00%\n",
       "Length: 78, dtype: object"
      ]
     },
     "execution_count": 17,
     "metadata": {},
     "output_type": "execute_result"
    }
   ],
   "source": [
    "(df_base_public.isna().sum() / len(df_base_public)).sort_values(ascending=False).apply(format_percent)"
   ]
  },
  {
   "cell_type": "code",
   "execution_count": null,
   "id": "ef2119a9-a8e8-46ba-b15b-01426d15395d",
   "metadata": {},
   "outputs": [],
   "source": []
  }
 ],
 "metadata": {
  "kernelspec": {
   "display_name": "Python 3 (ipykernel)",
   "language": "python",
   "name": "python3"
  },
  "language_info": {
   "codemirror_mode": {
    "name": "ipython",
    "version": 3
   },
   "file_extension": ".py",
   "mimetype": "text/x-python",
   "name": "python",
   "nbconvert_exporter": "python",
   "pygments_lexer": "ipython3",
   "version": "3.11.4"
  }
 },
 "nbformat": 4,
 "nbformat_minor": 5
}
